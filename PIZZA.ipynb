{
 "cells": [
  {
   "cell_type": "code",
   "execution_count": 1,
   "metadata": {},
   "outputs": [
    {
     "name": "stdout",
     "output_type": "stream",
     "text": [
      "Tabela PESSOA criada com sucesso.\n"
     ]
    }
   ],
   "source": [
    "import sqlite3\n",
    "\n",
    "# conectando...\n",
    "conn = sqlite3.connect('clientes.db')\n",
    "# definindo um cursor\n",
    "cursor = conn.cursor()\n",
    "\n",
    "# criando a tabela (PESSOA)\n",
    "cursor.execute(\"\"\"\n",
    "CREATE TABLE PESSOA (\n",
    "    id_pessoa   INTEGER PRIMARY KEY AUTOINCREMENT,\n",
    "    nome        TEXT,\n",
    "    telefone1   TEXT,\n",
    "    telefone2   TEXT,\n",
    "    datacad     TEXT,\n",
    "    id_endereco INTEGER,\n",
    "    FOREIGN KEY ( id_endereco   )  REFERENCES ENDERECO (id_endereco) \n",
    ");\n",
    "\n",
    "\"\"\")\n",
    "\n",
    "print('Tabela PESSOA criada com sucesso.')\n"
   ]
  },
  {
   "cell_type": "code",
   "execution_count": 2,
   "metadata": {},
   "outputs": [
    {
     "name": "stdout",
     "output_type": "stream",
     "text": [
      "Tabela CLIENTE criada com sucesso.\n"
     ]
    }
   ],
   "source": [
    "#criando a tabela CLIENTE\n",
    "# conectando...\n",
    "#conn = sqlite3.connect('clientes.db')\n",
    "# definindo um cursor\n",
    "#cursor = conn.cursor()\n",
    "cursor.execute(\"\"\"\n",
    "CREATE TABLE CLIENTE (\n",
    "    id_cliente         INTEGER PRIMARY KEY AUTOINCREMENT,\n",
    "    id_pessoa          INTEGER,\n",
    "    vendedor_principal INTEGER,\n",
    "    FOREIGN KEY (\n",
    "        id_pessoa\n",
    "    )\n",
    "    REFERENCES PESSOA (id_pessoa),\n",
    "    FOREIGN KEY (\n",
    "        vendedor_principal\n",
    "    )\n",
    "    REFERENCES VENDEDOR (id_vendedor) \n",
    ");\n",
    "\n",
    "\"\"\")\n",
    "print('Tabela CLIENTE criada com sucesso.')\n"
   ]
  },
  {
   "cell_type": "code",
   "execution_count": 4,
   "metadata": {},
   "outputs": [
    {
     "name": "stdout",
     "output_type": "stream",
     "text": [
      "Tabela VENDEDOR criada com sucesso.\n",
      "Tabela PIZZA criada com sucesso.\n"
     ]
    }
   ],
   "source": [
    "cursor.execute(\"\"\"\n",
    "CREATE TABLE VENDEDOR (\n",
    "    id_vendedor INTEGER PRIMARY KEY AUTOINCREMENT,\n",
    "    id_pessoa   INTEGER,\n",
    "    FOREIGN KEY (\n",
    "        id_pessoa\n",
    "    )\n",
    "    REFERENCES PESSOA (id_pessoa) \n",
    ");\n",
    "\"\"\")\n",
    "\n",
    "print('Tabela VENDEDOR criada com sucesso.')\n",
    "#CRIANDO A TABELA PIZZA\n",
    "cursor.execute(\"\"\"\n",
    "CREATE TABLE PIZZA (\n",
    "    id_pizza INT (2)   NOT NULL,\n",
    "    preco    FLOAT (2) NOT NULL,\n",
    "    sabor    TXT,\n",
    "    PRIMARY KEY (\n",
    "        id_pizza\n",
    "    )\n",
    ");\n",
    "\n",
    "\"\"\")\n",
    "print('Tabela PIZZA criada com sucesso.')"
   ]
  },
  {
   "cell_type": "code",
   "execution_count": 5,
   "metadata": {},
   "outputs": [
    {
     "name": "stdout",
     "output_type": "stream",
     "text": [
      "Tabela ENDERECO criada com sucesso.\n"
     ]
    }
   ],
   "source": [
    "#CRIANDO A TABELA ENDERECO\n",
    "cursor.execute(\"\"\"\n",
    "CREATE TABLE ENDERECO (\n",
    "    id_endereco INTEGER PRIMARY KEY AUTOINCREMENT,\n",
    "    cep         TEXT    NOT NULL,\n",
    "    logradouro  TEXT,\n",
    "    numero      TEXT,\n",
    "    complemento TEXT,\n",
    "    referencia  TEXT,\n",
    "    bairro      TEXT\n",
    ");\n",
    "\n",
    "\"\"\")\n",
    "print('Tabela ENDERECO criada com sucesso.')"
   ]
  },
  {
   "cell_type": "code",
   "execution_count": 6,
   "metadata": {},
   "outputs": [
    {
     "name": "stdout",
     "output_type": "stream",
     "text": [
      "Tabela PEDIDO criada com sucesso.\n"
     ]
    }
   ],
   "source": [
    "#CRIANDO A TABELA PEDIDO\n",
    "cursor.execute(\"\"\"\n",
    "CREATE TABLE PEDIDO (\n",
    "    id_item          INTEGER PRIMARY KEY AUTOINCREMENT,\n",
    "    nro_pedido       INT,\n",
    "    data             TEXT,\n",
    "    id_cliente       INT,\n",
    "    id_vendedor      INT,\n",
    "    id_entregador    INT,\n",
    "    id_pizza         INT (2),\n",
    "    qtde             INT (3),\n",
    "    obs              TEXT,\n",
    "    endereco_entrega INT,\n",
    "    FOREIGN KEY (\n",
    "        id_cliente\n",
    "    )\n",
    "    REFERENCES CLIENTE (id_cliente),\n",
    "    FOREIGN KEY (\n",
    "        id_vendedor\n",
    "    )\n",
    "    REFERENCES VENDEDOR (id_vendedor),\n",
    "    FOREIGN KEY (\n",
    "        id_entregador\n",
    "    )\n",
    "    REFERENCES ENTREGADOR (id_entregador),\n",
    "    FOREIGN KEY (\n",
    "        id_pizza\n",
    "    )\n",
    "    REFERENCES PIZZA (id_pizza),\n",
    "    FOREIGN KEY (\n",
    "        endereco_entrega\n",
    "    )\n",
    "    REFERENCES ENDERECO (id_endereco) \n",
    ");\n",
    "\"\"\")\n",
    "\n",
    "print('Tabela PEDIDO criada com sucesso.')\n",
    "\n"
   ]
  },
  {
   "cell_type": "markdown",
   "metadata": {},
   "source": [
    "Povoando a tabela com exemplos interessantes\n",
    "Create - Inserindo um registro com comando SQL\n",
    "A única novidade aqui é o método commit(). É ele que grava de fato as alterações na tabela. Lembrando que uma tabela é alterada com as instruções SQL ``INSERT, UPDATE`` e ``DELETE``."
   ]
  },
  {
   "cell_type": "code",
   "execution_count": null,
   "metadata": {},
   "outputs": [],
   "source": [
    " #inserindo dados na tabela\n",
    "cursor.execute(\"\"\"\n",
    "INSERT INTO clientes (nome, idade, cpf, email, fone, cidade, uf, criado_em)\n",
    "VALUES ('Regis', 35, '00000000000', 'regis@email.com', '11-98765-4321', 'Sao Paulo', 'SP', '2014-06-08')\n",
    "\"\"\")\n",
    "\n",
    "cursor.execute(\"\"\"\n",
    "INSERT INTO clientes (nome, idade, cpf, email, fone, cidade, uf, criado_em)\n",
    "VALUES ('Aloisio', 87, '11111111111', 'aloisio@email.com', '98765-4322', 'Porto Alegre', 'RS', '2014-06-09')\n",
    "\"\"\")\n",
    "\n",
    "cursor.execute(\"\"\"\n",
    "INSERT INTO clientes (nome, idade, cpf, email, fone, cidade, uf, criado_em)\n",
    "VALUES ('Bruna', 21, '22222222222', 'bruna@email.com', '21-98765-4323', 'Rio de Janeiro', 'RJ', '2014-06-09')\n",
    "\"\"\")\n",
    "\n",
    "cursor.execute(\"\"\"\n",
    "INSERT INTO clientes (nome, idade, cpf, email, fone, cidade, uf, criado_em)\n",
    "VALUES ('Matheus', 19, '33333333333', 'matheus@email.com', '11-98765-4324', 'Campinas', 'SP', '2014-06-08')\n",
    "\"\"\")\n",
    "\n",
    "# gravando no bd\n",
    "conn.commit()\n",
    "\n",
    "print('Dados inseridos com sucesso.')\n",
    "\n",
    "conn.close()"
   ]
  },
  {
   "cell_type": "code",
   "execution_count": null,
   "metadata": {},
   "outputs": [],
   "source": [
    "#Consultando a tabela\n",
    "conn = sqlite3.connect('clientes.db')\n",
    "cursor = conn.cursor()\n",
    "\n",
    "# lendo os dados\n",
    "cursor.execute(\"\"\"\n",
    "SELECT * FROM clientes;\n",
    "\"\"\")\n",
    "\n",
    "for linha in cursor.fetchall():\n",
    "    print(linha)\n",
    "\n",
    "conn.close()"
   ]
  },
  {
   "cell_type": "code",
   "execution_count": null,
   "metadata": {},
   "outputs": [],
   "source": []
  }
 ],
 "metadata": {
  "kernelspec": {
   "display_name": "Python 3.9.5 64-bit",
   "language": "python",
   "name": "python3"
  },
  "language_info": {
   "codemirror_mode": {
    "name": "ipython",
    "version": 3
   },
   "file_extension": ".py",
   "mimetype": "text/x-python",
   "name": "python",
   "nbconvert_exporter": "python",
   "pygments_lexer": "ipython3",
   "version": "3.9.5"
  },
  "orig_nbformat": 4,
  "vscode": {
   "interpreter": {
    "hash": "3bccafb64f6ca848dbe7212a142cd6de78b71ec36054333346a07a3dab2a2b30"
   }
  }
 },
 "nbformat": 4,
 "nbformat_minor": 2
}
